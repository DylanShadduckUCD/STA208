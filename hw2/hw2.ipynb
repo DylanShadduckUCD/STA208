{
 "cells": [
  {
   "cell_type": "markdown",
   "metadata": {},
   "source": [
    "# STA 208: Homework 2 (Do not distribute)\n",
    "\n",
    "**Lectures:** 1-5\n",
    "\n",
    "__Instructions:__ To make grading easier for the TAs please submit it on canvas in a zip file with either the scanned solutions clearly written or in the jupyter notebook below.  The zip file should include all of your code either in this notebook file, or a separate python file that is imported and ran in this notebook.  We should be able to open this notebook and run everything here by running the cells in sequence.  The written portions can be either done in markdown and TeX in new cells or written clearly by hand and scanned.\n",
    "\n",
    "- Code should be well organized and documented\n",
    "- All math should be clear and make sense sequentially\n",
    "- When in doubt explain what is going on\n",
    "- You will be graded on correctness of your math, code efficiency and succinctness, and conclusions and modelling decisions"
   ]
  },
  {
   "cell_type": "markdown",
   "metadata": {},
   "source": [
    "__Exercise 1__ (30 pts)\n",
    "\n",
    "Consider Poisson model with rate parameter $\\lambda$ which has PMF,\n",
    "$$\n",
    "p(y|\\lambda) = \\frac{\\lambda^y}{y!} e^{-\\lambda},\n",
    "$$\n",
    "where $y = 0,1,\\ldots$ is some count variable.\n",
    "In Poison regression, we model $\\lambda = e^{\\beta^\\top x}$ to obtain $p(y | x,\\beta)$.\n",
    "\n",
    "1. Let the loss function for Poisson regression be $\\ell_i(\\beta) \\propto - \\log p(y_i | x_i, \\beta)$ for a dataset consisting of predictor variables and count values $\\{x_i,y_i\\}_{i=1}^n$.  Here $\\propto$ means that we disregard any additive terms that are not dependent on $\\beta$.  Write an expression for $\\ell_i$ and derive its gradient. \n",
    "2. Show that the empirical risk $R_n(\\beta)$ is a convex function of $\\beta$.\n",
    "3. Consider the mapping $F_\\eta(\\beta) = \\beta - \\eta \\nabla R_n(\\beta)$ which is the iteration of gradient descent ($\\eta>0$ is called the learning parameter).  Show that at the minimizer of $R_n$, $\\hat \\beta$, we have that $F(\\hat \\beta) = \\hat \\beta$.\n",
    "4. I have a script to simulate from this model below.  Implement the gradient descent algorithm above and show that with enough data (n large enough) the estimated $\\hat \\beta$ approaches the true $\\beta$ (you can look at the sum of square error between these two vectors)."
   ]
  },
  {
   "cell_type": "markdown",
   "metadata": {},
   "source": [
    "__MY SOLUTION__\n",
    "\n",
    "1. Assuming that log represents the natural logarithm, we can write $\\ell_i(\\beta) \\propto - \\log(\\frac{e^{B^Tx}}{y!}e^{-e^{B^Tx}})$. We can take out the $y!$ term and drop it since it does not have any dependence on $\\beta$. This leaves us with $\\ell_i(\\beta) = -B^Tx + e^{B^Tx}$. Finally, we apply the gradient to this function $\\nabla \\ell_i(\\beta) = -B^T + B^Te^{B^Tx}$\n",
    "\n",
    "2. The empirical risk can be written as $R_n(\\beta) = \\frac{1}{n} \\sum_{i=1}^n B^T_{i,i}x_i + e^{B^T_{i,i}x_i}$. To show that this function is convex we can use the 2nd order condition. As long as $\\ell_i(\\beta)$ satisfies the second order condition, we can say that the empirical risk will satisfy that condition as well since it is a linear combination of the loss function. $\\nabla^2 \\ell_i(\\beta) = (B^T)^2e^{B^Tx}$. To satisfy the second order condition, \n",
    "\n",
    "$x^\\top (\\nabla^2 \\ell_i(\\beta)) x \\ge 0, \\forall x \\tag{positive semi-definite}$\n",
    "\n",
    "This gives $x^\\top ((B^\\top)^2e^{B^\\top x}) x$. We know that $(B^\\top)^2e^{B^\\top x}$ is positive for any $B$ and any $x$ since the $B$ term is squared and the $x, B$ term is in the exp function which is always positive. We also know that $x^\\top x$ is positive for all x, so we can say that our $R_n$ satisfies the second order convexity condition.\n",
    "\n",
    "\n",
    "3. Since we know that $R_n$ is a convex function, we can say that for some x, $\\nabla R_n(\\beta) = 0$. Substituting this into our mapping equation, we find $F_\\eta(\\beta) = \\beta - \\eta \\nabla (0)$   or   $F_\\eta(\\beta) = \\beta$\n",
    "\n",
    "\n",
    "4. Shown below in python block"
   ]
  },
  {
   "cell_type": "code",
   "execution_count": 13,
   "metadata": {},
   "outputs": [],
   "source": [
    "import numpy as np"
   ]
  },
  {
   "cell_type": "code",
   "execution_count": 2,
   "metadata": {
    "collapsed": true
   },
   "outputs": [],
   "source": [
    "## Simulate from the Poisson regression model (use y,X)\n",
    "n, p = 1000,20\n",
    "X = np.random.normal(0,1,size = (n,p))\n",
    "beta = np.random.normal(0,.2,size = (p))\n",
    "lamb = np.exp(X @ beta)\n",
    "y = np.random.poisson(lamb)"
   ]
  },
  {
   "cell_type": "markdown",
   "metadata": {},
   "source": [
    "__Exercise 2__ (30 pts)\n",
    "\n",
    "Recall the subset selection problem with tuning parameter $k$,\n",
    "$$\n",
    "\\min_{\\beta : |{\\rm supp}(\\beta)| \\le k}\\| y - X \\beta \\|_2^2,\n",
    "$$\n",
    "where \n",
    "${\\rm supp}(\\beta) = \\{j = 1\\,\\ldots,p : \\beta_j \\ne 0 \\}$. Notice that we can write this as \n",
    "$$\n",
    "\\min_{\\beta : \\| \\beta \\|_0 \\le k}\\| y - X \\beta \\|_2^2,\n",
    "$$\n",
    "where \n",
    "1. Write the subset selection problem in the following form\n",
    "$$\n",
    "\\min_{S \\subseteq \\{1,\\ldots,p\\}, |S|\\le k} y^\\top P_S y,\n",
    "$$\n",
    "where $P_S$ is a projection.  Describe the subspace that is the range of this projection.\n",
    "2. Suppose that we have a nested sequence of models $S_1\\subset S_2 \\subset \\ldots \\subset S_p$ such that $|S_k| = k$ (it contains $k$ variables).  Prove that $$y^\\top P_{S_k} y \\ge y^\\top P_{S_{k+1}} y$$ for $k=1,\\ldots,p-1$.  What does this tell us about the solution to the subset selection problem and the constraint $|S| \\le k$?\n",
    "3. Suppose that $X$ is orthogonal, then write a computationally efficient pseudocode to solve the subset selection problem.  Prove that it is correct (your algorithm actually solves subset selection under othogonal design).\n",
    "4. (Challenge) Suppose that we have that $n = p$ and $y_i = \\beta_i + \\epsilon_i$ (identity design matrix) where $\\epsilon_i$ satisfies \n",
    "$$\n",
    "\\mathbb P \\left\\{ |\\epsilon_i| \\ge t \\right\\} \\le 2 e^{-t^2 / 2\\sigma^2}\n",
    "$$\n",
    "for any $t > 0$ (this is true for central Normal RVs) for some $\\sigma > 0$.\n",
    "Suppose that there is some true $S_0 \\subset\\{1,\\ldots,p\\}$ such that $|S_0| = k < p$ and ${\\rm supp}(\\beta) = S_0$.\n",
    "Prove the following.\n",
    "\n",
    "__Proposition__\n",
    "Define $\\mu = \\min_{j \\in S_0} |\\beta_j|$ and call $\\mu / \\sigma$ the signal-to-noise ratio.  Then if \n",
    "$$\n",
    "\\frac{\\mu}{\\sigma} > 2 \\sqrt{2 \\log \\left( \\frac{2n}{\\delta}\\right)},\n",
    "$$\n",
    "then the true $S$ is selected by subset selection with probability at least $1 - \\delta$.\n",
    "\n",
    "Hint: rewrite the subset selection problem with $X = I$ and compare the objective at $S_0$ to any other $S$."
   ]
  },
  {
   "cell_type": "markdown",
   "metadata": {},
   "source": [
    "1. $X_s \\hat\\beta = X_s (X_s^TX_s)^{-1} X_s^Ty = Hy$. From here we can rewrite the L2 norm, $||y - X_s\\beta||_2^2$ as a funciton of $X_s$. $||y - X_s\\beta||_2^2 = ||(I-H)y||_2^2 = [(I-H)y]^T (I-H)y$. Distributing the transpose, we have $||y - X_s\\beta||_2^2 = y^T (I - H)^T (I - H)y$. Writing out the form for H from the first equation, $||y - X_s\\beta||_2^2 = y^T ||(I - H)||_2^2 y$ "
   ]
  },
  {
   "cell_type": "markdown",
   "metadata": {},
   "source": [
    "__Exercise 3__ (40 pts)\n",
    "For this exercise, it may be helpful to use the `sklearn.linear_model` module.  I have also included a plotting tool for making the lasso path in ESL.\n",
    "\n",
    "1. Load the training and test data using the script below.  Fit OLS on the training dataset and compute the test error.  Throughout you do not need to compute an intercept but you should normalize the X (divide by the column norms)."
   ]
  },
  {
   "cell_type": "code",
   "execution_count": 47,
   "metadata": {},
   "outputs": [
    {
     "name": "stdout",
     "output_type": "stream",
     "text": [
      "Test error for OLS solution: 1.039\n"
     ]
    }
   ],
   "source": [
    "import pickle\n",
    "from sklearn import preprocessing, linear_model\n",
    "with open('hw2.data','rb') as f:\n",
    "    y_tr,X_tr,y_te,X_te = pickle.load(f)\n",
    "\n",
    "# Scaling training and test data\n",
    "scaler = preprocessing.StandardScaler()\n",
    "X_tr = scaler.fit_transform(X_tr)\n",
    "X_te = scaler.transform(X_te)\n",
    "\n",
    "# Computing OLS solution\n",
    "ols = linear_model.LinearRegression()\n",
    "ols.fit(X_tr, y_tr)\n",
    "\n",
    "# Predicting and computing the test error\n",
    "y_pred = ols.predict(X_te)\n",
    "mse = ((y_pred - y_te)**2).mean()\n",
    "print(\"Test error for OLS solution: {:.3f}\".format(mse))"
   ]
  },
  {
   "cell_type": "markdown",
   "metadata": {},
   "source": [
    "2. Train and tune ridge regression using a validation set and compute the test error (square error loss)."
   ]
  },
  {
   "cell_type": "code",
   "execution_count": 48,
   "metadata": {},
   "outputs": [
    {
     "data": {
      "image/png": "[encoded data removed]",
      "text/plain": [
       "<Figure size 720x720 with 1 Axes>"
      ]
     },
     "metadata": {
      "needs_background": "light"
     },
     "output_type": "display_data"
    }
   ],
   "source": [
    "from sklearn.model_selection import train_test_split\n",
    "import matplotlib.pyplot as plt\n",
    "\n",
    "# Splitting our training data into train and validation sets\n",
    "# Setting the random state ensures that this split will be repeated the same every time\n",
    "X_tr, X_val, y_tr, y_val = train_test_split(X_tr, y_tr, test_size=0.33, random_state=1)\n",
    "\n",
    "# Training ridge regression and choosing the gamma with the smallest validation loss\n",
    "gamma_array = np.arange(0, 10, 0.01)\n",
    "\n",
    "# Initializing the validation loss array\n",
    "val_loss = np.zeros_like(gamma_array)\n",
    "\n",
    "for i, gamma in list(enumerate(gamma_array)):\n",
    "    ridge = linear_model.Ridge(alpha=gamma)\n",
    "    ridge.fit(X_tr, y_tr)\n",
    "    \n",
    "    # making prediction\n",
    "    pred = ridge.predict(X_val)\n",
    "    mse = ((pred - y_val)**2).mean()\n",
    "    \n",
    "    # append to val loss\n",
    "    val_loss[i] = mse\n",
    "    \n",
    "plt.figure(figsize=(10,10))\n",
    "plt.plot(gamma_array, val_loss)\n",
    "plt.title(\"Validation Loss (MSE) vs Gamma for Ridge Regression\")\n",
    "plt.xlabel(\"$\\gamma$\")\n",
    "plt.ylabel(\"MSE\")\n",
    "plt.show()"
   ]
  },
  {
   "cell_type": "code",
   "execution_count": 49,
   "metadata": {},
   "outputs": [
    {
     "name": "stdout",
     "output_type": "stream",
     "text": [
      "Ideal gamma for ridge regression is 1.42\n",
      "Ridge regression test error is: 1.11\n"
     ]
    }
   ],
   "source": [
    "# Best Ridge regression according to the validation loss is actually the OLS solution (gamma = 0)\n",
    "best_gamma = gamma_array[np.argwhere(val_loss == np.min(val_loss))][0,0]\n",
    "print(\"Ideal gamma for ridge regression is {:.2f}\".format(best_gamma))\n",
    "\n",
    "# Find the test error for this gamma\n",
    "ridge = linear_model.Ridge(alpha = best_gamma)\n",
    "ridge.fit(X_tr, y_tr)\n",
    "y_pred = ridge.predict(X_te)\n",
    "test_error = ((y_pred - y_te)**2).mean()\n",
    "print(\"Ridge regression test error is: {:.2f}\".format(test_error))"
   ]
  },
  {
   "cell_type": "markdown",
   "metadata": {},
   "source": [
    "3. Fit the lasso path with lars to the data and compute the test error for each returned lasso coefficient."
   ]
  },
  {
   "cell_type": "code",
   "execution_count": 57,
   "metadata": {},
   "outputs": [
    {
     "name": "stdout",
     "output_type": "stream",
     "text": [
      "(670, 100)\n",
      "(100, 103)\n"
     ]
    }
   ],
   "source": [
    "# Fit data using the lasso method\n",
    "_, _, coeffs = linear_model.lars_path(X_tr, y_tr, method=\"lasso\")\n",
    "print(X_tr.shape)\n",
    "print(coeffs.shape)"
   ]
  },
  {
   "cell_type": "markdown",
   "metadata": {},
   "source": [
    "4. Perform 3 without the lasso modification generating the lars path.  Compare and contrast the lars path to the lasso path, what is the key difference.  Tell me when the active sets differ and how, if they do at all.\n",
    "4. Extract each active set from the lasso path and recompute the restricted OLS for each.  Compute and compare the test error for each model.\n",
    "5. If your boss said that they wanted a more parsimonious model (a smaller model) then which model would you choose, justify your answer.  Under which circumstance would you choose the model with the smallest test error."
   ]
  },
  {
   "cell_type": "code",
   "execution_count": 1,
   "metadata": {
    "collapsed": true
   },
   "outputs": [],
   "source": [
    "def plot_lars(coefs, lines=False, title=\"Lars Path\"):\n",
    "    \"\"\"\n",
    "    Plot the lasso path where coefs is a matrix - the columns are beta vectors\n",
    "    \"\"\"\n",
    "    xx = np.sum(np.abs(coefs.T), axis=1)\n",
    "    xx /= xx[-1]\n",
    "    plt.plot(xx, coefs.T)\n",
    "    ymin, ymax = plt.ylim()\n",
    "    if lines:\n",
    "        plt.vlines(xx, ymin, ymax, linestyle='dashed')\n",
    "    plt.xlabel('|coef| / max|coef|')\n",
    "    plt.ylabel('Coefficients')\n",
    "    plt.title(title)\n",
    "    plt.axis('tight')"
   ]
  },
  {
   "cell_type": "code",
   "execution_count": 1,
   "metadata": {},
   "outputs": [],
   "source": [
    "import pickle\n",
    "with open('hw2.data','rb') as f:\n",
    "    y_tr,X_tr,y_te,X_te = pickle.load(f)"
   ]
  }
 ],
 "metadata": {
  "kernelspec": {
   "display_name": "Python 3",
   "language": "python",
   "name": "python3"
  },
  "language_info": {
   "codemirror_mode": {
    "name": "ipython",
    "version": 3
   },
   "file_extension": ".py",
   "mimetype": "text/x-python",
   "name": "python",
   "nbconvert_exporter": "python",
   "pygments_lexer": "ipython3",
   "version": "3.8.5"
  }
 },
 "nbformat": 4,
 "nbformat_minor": 2
}
