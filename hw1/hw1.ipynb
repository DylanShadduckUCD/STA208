{
 "cells": [
  {
   "cell_type": "markdown",
   "metadata": {},
   "source": [
    "# STA 208: Homework 1 (Do not distribute)\n",
    "\n",
    "\n",
    "__Instructions:__ To make grading easier for the TAs please submit it on canvas in a zip file with either the scanned solutions clearly written or in the jupyter notebook below.  The zip file should include all of your code either in this notebook file, or a separate python file that is imported and ran in this notebook.  We should be able to open this notebook and run everything here by running the cells in sequence.  The written portions can be either done in markdown and TeX in new cells or written clearly by hand and scanned.\n",
    "\n",
    "- Code should be well organized and documented\n",
    "- All math should be clear and make sense sequentially\n",
    "- When in doubt explain what is going on\n",
    "- You will be graded on correctness of your math, code efficiency and succinctness, and conclusions and modelling decisions"
   ]
  },
  {
   "cell_type": "markdown",
   "metadata": {},
   "source": [
    "__Exercise 1__ (20 pts)\n",
    "\n",
    "Consider the binary classification setting where the training data is $x_i \\in \\mathbb R^p, y_i \\in \\{0,1\\}, i=1,\\ldots,n$ and recall the empirical risk (as a function of the predictor $g : \\mathbb R^p \\to \\{0,1\\}$),\n",
    "$$\n",
    "R_n(g) = \\frac 1n \\sum_{i=1}^n \\ell(y_i, g(x_i)),\n",
    "$$\n",
    "and the true risk is \n",
    "$$\n",
    "R(g) = \\mathbb E \\ell(Y,g(X))\n",
    "$$\n",
    "where $X,Y$ are drawn from their joint distribution $f_{X,Y}(x,y)$.\n",
    "\n",
    "1. Suppose that the loss function is the Hamming loss, $\\ell(y,\\hat y) = 1\\{ y \\ne \\hat y\\}$.  What is the predictor that minimizes the True risk?  (Hint: derive an expression for this based on the joint distribution - you can use expressions involving conditional probabilities.)  This predictor is called the Bayes rule.\n",
    "2. Suppose that we know that the Bayes rule can be written in the form, \n",
    "$$\n",
    "h_j(x) = 1\\{ x_j > 0 \\}, \n",
    "$$\n",
    "for some $j = 1,\\ldots,p$, but we don't know which one.  Now using the empirical risk, what is a reasonable classification algorithm (Hint: you can think of finding a good classifier as a problem of finding $j$).  Describe the fit and predict methods. \n",
    "3. (Challenging) Suppose that I told you that for any fixed $j$ the following probability bound holds (from Hoeffding's inequality)\n",
    "$$\n",
    "\\mathbb P \\left\\{ |R_n(h_j) - R(h_j)| > t \\right\\} \\le 2 \\exp \\left( - 2 n t^2 \\right).\n",
    "$$\n",
    "If $p=10$, how many samples would I need to get a classifier $\\hat g$, from the previous question (part 2), such that \n",
    "$$\n",
    "\\mathbb P \\left\\{ R(\\hat g) < R(h) + 0.1 \\right\\} \\ge 0.95.\n",
    "$$\n",
    "where $h$ is the Bayes rule, namely, the $h_j$ that minimizes $R$.\n",
    "(Hint: use the union bound to show that $R_n(\\hat g) \\approx R(\\hat g)$ and use the fact that $R_n(\\hat g) \\le R_n(h_j)$ for any $j$ because it is in the minimizer.  Remember that $\\hat g$ is random and $R_n$ and $\\hat g$ are not independent.)"
   ]
  },
  {
   "cell_type": "markdown",
   "metadata": {},
   "source": [
    "1. The hamming loss will be minimized if $\\hat y = y$\n",
    "\n",
    "      since $g(X) = \\hat y$ we would like to force $g(X) = y$. To find this equation that relates our $X$ and $y$ variables we can use the conditional probability equation $f(y|X) = \\frac{f_{X,Y}(x,y)}{f(x)}$. This eqation maps our X variable onto our y variable perfectly and is thus a valid solution for our $g(X)$ predictor. This gives\n",
    "$$\n",
    "g(X) = \\frac{f_{X,Y}(x,y)}{f(x)}\\\n",
    "$$\n",
    "\n",
    "2. "
   ]
  },
  {
   "cell_type": "markdown",
   "metadata": {},
   "source": [
    "__Exercise 2__ (20 pts)\n",
    "\n",
    "Consider the regression setting in which $x_i \\in \\mathbb R^p$ and $y_i \\in \\mathbb R$, for $i=1,\\ldots,n$ and $p < n$.\n",
    "\n",
    "1. For a given regressor, let $\\hat y_i$ be prediction given $x_i$, and $\\hat y$ be the vector form.  Show that both linear regression and k-nearest neighbors can be written in the form\n",
    "$$\n",
    "\\hat y = H y,\n",
    "$$\n",
    "where $H$ is dependent on $X$ (the matrix of where each row is $x_i$), assuming that $p < n$ and $X$ is full rank.  Give an expression for $H$ or an algorithm for computing $H$.  Assume that the KNN algorithm will use the same point as its own nearest neighbor (this is consistent with what you get if you use the same dataset in fit and predict in sklearn.)  You can just write it in words or pseudocode. \n",
    "2. Give a simple modification to your algorithm to compute the KNN's $H$ matrix so that a sample does not use its own point.  Derive an expression for the leave-one-out cross validated squared error based on this $H$. You can just write it in words or pseudocode. \n",
    "3. For linear regression (with $p < n$ and $X$ is full rank), let $X = U D V^\\top$ be the singular value decomposition where $U$ is $n \\times p$, and $V, D$ is $p \\times p$ ($D$ is diagonal). Derive an expression for the OLS coefficients $\\beta = A b$ such that $A$ is $p \\times p$ and depends on $V$ and $D$, and $b$ is a $p$ vector and does not depend on $D$.  Describe a fit method that precomputes these quantities separately, and describe a predict method.\n",
    "\n",
    "\n",
    "4. Consider a regressor that performs OLS using the SVD above, but every instance of D will only use the largest $r$ values, and only the first $r$ columns of $U,V$ would be used.  Let $U_r, V_r$ be the $n \\times r$ and $p \\times r$ eigenvector matrices.  Call the new $r \\times r$ matrix $D_r$ ($r < p$) which just has the top $r$ singular values.  Then the new coefficient vector is the OLS computed as if the design matrix is modified by $X \\gets U_r D_r V_r^\\top$.  Given that you have computed $b$ already, how could you make a method `change_rank` that recomputes $A$ with $D_r$ instead of $D$?  What is its computational complexity (it should not depend on n)?"
   ]
  },
  {
   "cell_type": "markdown",
   "metadata": {},
   "source": [
    "__Exercise 3__ (30 pts)\n",
    "\n",
    "We call the method that zeros out all but $r$ largest singular values in OLS, singular value regression.  Implement the singular value regressor as a sklearn style class below.  Test it by simulating the training and test data from the `gen_LR_data` function below and calculate the average square error on the test set.  Do this for each choice of `r` in the fit function (from 1 to $p$)."
   ]
  },
  {
   "cell_type": "code",
   "execution_count": 1,
   "metadata": {},
   "outputs": [],
   "source": [
    "import numpy as np\n",
    "import scipy as sc\n",
    "from sklearn import preprocessing\n",
    "import matplotlib.pyplot as plt"
   ]
  },
  {
   "cell_type": "code",
   "execution_count": 2,
   "metadata": {},
   "outputs": [],
   "source": [
    "class SingularValueRegressor:\n",
    "    \"\"\"\n",
    "    : A regression object that uses the SVD to fit and predict\n",
    "    : Init: specify rank r\n",
    "    : .fit: solve the SVD of X and precompute beta\n",
    "    : .predict: Return y hat for X_test\n",
    "    \"\"\"\n",
    "    \n",
    "    def __init__(self,r):\n",
    "        \"\"\"\n",
    "        : Store the rank\n",
    "        \"\"\"\n",
    "        self.r = r\n",
    "        \n",
    "    def fit(self,X,y):\n",
    "        \"\"\"\n",
    "        : Computes and stores the SVD (use scipy.linalg.svd)\n",
    "        : Computes beta for rank r singular value regression\n",
    "        \"\"\"\n",
    "        U,D,Vt = np.linalg.svd(X)\n",
    "        \n",
    "        # Store unaltered svd values and training data\n",
    "        self.U = U\n",
    "        self.D = D\n",
    "        self.Vt = Vt\n",
    "        self.X = X\n",
    "        self.y = y\n",
    "        \n",
    "        # Keep only the r largest singular values\n",
    "        D = self.D[:self.r]\n",
    "        D_inv = np.linalg.inv(np.diag(D))\n",
    "        U = U[:, :self.r]\n",
    "        V = Vt.T\n",
    "        V = V[:, :self.r]\n",
    "                \n",
    "        # Calculate beta using the singular value decomposition\n",
    "        self.beta = V @ D_inv @ U.T @ y\n",
    "        \n",
    "        \n",
    "    def predict(self,X_test):\n",
    "        \"\"\"\n",
    "        : Outputs the predicted y given the predictors X_test\n",
    "        \"\"\"\n",
    "        \n",
    "        # Predict y hat given the test vector and the beta calculated earlier\n",
    "        yhat = X_test @ self.beta\n",
    "        \n",
    "        return yhat\n",
    "    \n",
    "    def change_rank(self,r):\n",
    "        \"\"\"\n",
    "        : Assumes that the SVD has been computed and uses it to change the rank; after\n",
    "        : running the new regressor object should be as if we fit with the new rank r\n",
    "        \"\"\"\n",
    "        \n",
    "        # Keep only the r largest singular values\n",
    "        m,n = self.X.shape\n",
    "        D = self.D[:r]\n",
    "        D_inv = np.linalg.inv(np.diag(D))\n",
    "        V = self.Vt.T[:, :r]\n",
    "        U = self.U[:, :r]\n",
    "                \n",
    "        # Calculate beta using the singular value decomposition\n",
    "        self.beta = V @ D_inv @ U.T @ self.y\n",
    "        "
   ]
  },
  {
   "cell_type": "code",
   "execution_count": 3,
   "metadata": {},
   "outputs": [],
   "source": [
    "def gen_LR_data(r = 10, p = 20, n = 100):\n",
    "    \"\"\"\n",
    "    : generate data from an approx low rank regression model\n",
    "    \"\"\"\n",
    "    alpha = np.random.chisquare(1,size = (p,r)) #X coefficients\n",
    "    Z = np.random.normal(size=(n,r)) #X covariates\n",
    "    beta = np.random.normal(size = r) #reg covs\n",
    "    mu = Z @ beta #hidden mean\n",
    "    Xmean = Z @ alpha.T #random transformation of Z\n",
    "    X = Xmean + np.random.normal(0,.5,size=(n,p)) #add noise - not exactly low rank\n",
    "    X_test = Xmean + np.random.normal(0,.5,size=(n,p))\n",
    "    y = mu + np.random.normal(0,1,size=(n))\n",
    "    y_test = mu + np.random.normal(0,1,size=(n))\n",
    "    return (X,y,X_test,y_test)"
   ]
  },
  {
   "cell_type": "code",
   "execution_count": 4,
   "metadata": {},
   "outputs": [],
   "source": [
    "X,y,X_test,y_test = gen_LR_data()\n",
    "\n",
    "# Data preprocessing\n",
    "scaler = preprocessing.StandardScaler()\n",
    "X = scaler.fit_transform(X)\n",
    "X_test = scaler.transform(X_test)\n",
    "\n",
    "# Add intercept\n",
    "X_int = np.ones((X.shape[0], 1))\n",
    "X_test_int = np.ones((X_test.shape[0], 1))\n",
    "X = np.hstack((X_int, X))\n",
    "X_test = np.hstack((X_test_int, X_test))\n",
    "\n",
    "# Train our model using SVD parameters\n",
    "svr = SingularValueRegressor(r=3)\n",
    "svr.fit(X,y)\n",
    "yhat = svr.predict(X_test)\n",
    "\n",
    "# Change rank\n",
    "svr.change_rank(4)\n",
    "yhat = svr.predict(X_test)"
   ]
  },
  {
   "cell_type": "code",
   "execution_count": 5,
   "metadata": {},
   "outputs": [],
   "source": [
    "p,n = 20, 100\n",
    "\n",
    "# Store mse values in an array\n",
    "mse_vals = []\n",
    "\n",
    "for r in range(1,p+1):\n",
    "    if r == 1:\n",
    "        \n",
    "        # Initialize our singular value regressor class\n",
    "        svr = SingularValueRegressor(r=r)\n",
    "        svr.fit(X,y)\n",
    "        yhat = svr.predict(X_test)\n",
    "    \n",
    "    else:\n",
    "        svr.change_rank(r=r)\n",
    "        yhat = svr.predict(X_test)\n",
    "    \n",
    "    # Calculate mse\n",
    "    mse = ((yhat - y_test)**2).mean()\n",
    "    mse_vals.append(mse)"
   ]
  },
  {
   "cell_type": "code",
   "execution_count": 6,
   "metadata": {},
   "outputs": [
    {
     "data": {
      "image/png": "[encoded data removed]",
      "text/plain": [
       "<Figure size 720x720 with 1 Axes>"
      ]
     },
     "metadata": {
      "needs_background": "light"
     },
     "output_type": "display_data"
    }
   ],
   "source": [
    "# Plot our mse vals vs our value for r\n",
    "plt.figure(figsize=(10,10))\n",
    "plt.plot(range(1,p+1), mse_vals)\n",
    "plt.xlabel(\"r value\")\n",
    "plt.ylabel(\"Mean Square Error\")\n",
    "plt.title(\"MSE vs r\")\n",
    "plt.grid(True)\n",
    "plt.show()"
   ]
  },
  {
   "cell_type": "markdown",
   "metadata": {},
   "source": [
    "__Exercise 4__ (30 pts)\n",
    "\n",
    "The dataset in the hw1 directory has a Y variable, 7 predictor variables (X1 - X7).  Using sklearn and the class that you constructed above, compare ridge regression, OLS, kNN, and SingularValueRegressor.  Compare and tune the methods using appropriate testing procedures.  Comment on the tuning of each parameter in ridge, kNN, and SingularValueRegressor in markdown.  Be sure to standardize the X variables first and decide how to deal with NAs.  "
   ]
  },
  {
   "cell_type": "code",
   "execution_count": 7,
   "metadata": {},
   "outputs": [],
   "source": [
    "import pandas as pd\n",
    "import sklearn\n",
    "from sklearn.model_selection import train_test_split\n",
    "from sklearn import neighbors, linear_model"
   ]
  },
  {
   "cell_type": "code",
   "execution_count": 8,
   "metadata": {},
   "outputs": [
    {
     "data": {
      "text/html": [
       "<div>\n",
       "<style scoped>\n",
       "    .dataframe tbody tr th:only-of-type {\n",
       "        vertical-align: middle;\n",
       "    }\n",
       "\n",
       "    .dataframe tbody tr th {\n",
       "        vertical-align: top;\n",
       "    }\n",
       "\n",
       "    .dataframe thead th {\n",
       "        text-align: right;\n",
       "    }\n",
       "</style>\n",
       "<table border=\"1\" class=\"dataframe\">\n",
       "  <thead>\n",
       "    <tr style=\"text-align: right;\">\n",
       "      <th></th>\n",
       "      <th>Y</th>\n",
       "      <th>X1</th>\n",
       "      <th>X2</th>\n",
       "      <th>X3</th>\n",
       "      <th>X4</th>\n",
       "      <th>X5</th>\n",
       "      <th>X6</th>\n",
       "      <th>X7</th>\n",
       "    </tr>\n",
       "  </thead>\n",
       "  <tbody>\n",
       "    <tr>\n",
       "      <th>0</th>\n",
       "      <td>18.0</td>\n",
       "      <td>8.0</td>\n",
       "      <td>307.0</td>\n",
       "      <td>130.0</td>\n",
       "      <td>3504.0</td>\n",
       "      <td>12.0</td>\n",
       "      <td>70.0</td>\n",
       "      <td>1.0</td>\n",
       "    </tr>\n",
       "    <tr>\n",
       "      <th>1</th>\n",
       "      <td>15.0</td>\n",
       "      <td>8.0</td>\n",
       "      <td>350.0</td>\n",
       "      <td>165.0</td>\n",
       "      <td>3693.0</td>\n",
       "      <td>11.5</td>\n",
       "      <td>70.0</td>\n",
       "      <td>1.0</td>\n",
       "    </tr>\n",
       "    <tr>\n",
       "      <th>2</th>\n",
       "      <td>18.0</td>\n",
       "      <td>8.0</td>\n",
       "      <td>318.0</td>\n",
       "      <td>150.0</td>\n",
       "      <td>3436.0</td>\n",
       "      <td>11.0</td>\n",
       "      <td>70.0</td>\n",
       "      <td>1.0</td>\n",
       "    </tr>\n",
       "    <tr>\n",
       "      <th>3</th>\n",
       "      <td>16.0</td>\n",
       "      <td>8.0</td>\n",
       "      <td>304.0</td>\n",
       "      <td>150.0</td>\n",
       "      <td>3433.0</td>\n",
       "      <td>12.0</td>\n",
       "      <td>70.0</td>\n",
       "      <td>1.0</td>\n",
       "    </tr>\n",
       "    <tr>\n",
       "      <th>4</th>\n",
       "      <td>17.0</td>\n",
       "      <td>8.0</td>\n",
       "      <td>302.0</td>\n",
       "      <td>140.0</td>\n",
       "      <td>3449.0</td>\n",
       "      <td>10.5</td>\n",
       "      <td>70.0</td>\n",
       "      <td>1.0</td>\n",
       "    </tr>\n",
       "  </tbody>\n",
       "</table>\n",
       "</div>"
      ],
      "text/plain": [
       "      Y   X1     X2     X3      X4    X5    X6   X7\n",
       "0  18.0  8.0  307.0  130.0  3504.0  12.0  70.0  1.0\n",
       "1  15.0  8.0  350.0  165.0  3693.0  11.5  70.0  1.0\n",
       "2  18.0  8.0  318.0  150.0  3436.0  11.0  70.0  1.0\n",
       "3  16.0  8.0  304.0  150.0  3433.0  12.0  70.0  1.0\n",
       "4  17.0  8.0  302.0  140.0  3449.0  10.5  70.0  1.0"
      ]
     },
     "execution_count": 8,
     "metadata": {},
     "output_type": "execute_result"
    }
   ],
   "source": [
    "data_mat = pd.read_csv('hw1_data.csv')\n",
    "data_mat.head()"
   ]
  },
  {
   "cell_type": "markdown",
   "metadata": {},
   "source": [
    "Some notes for the NAs, you need to replace the NAs somehow to use these methods.  The SimpleImputer will replace the NAs with the mean,median, etc.  You can fit this on the training data and use this to transform for the test set.  We can see that any imputer that is fit only on the training set also can give you that the test error is an unbiased risk estimator.  Let $\\hat I$ be the imputer transform and $\\hat f$ be any trained predictor.\n",
    "\n",
    "$$\\hat I: R^p \\to R^{p}$$\n",
    "$$\\hat f: R^{p} \\to R$$\n",
    "\n",
    "For example,\n",
    "$(\\hat I(x))_j = $ $x_j$ if non-missing and $\\hat \\mu_j$ if missing \n",
    "or you could add a missingness indicator,\n",
    "$$\\hat I_2: R^p \\to R^{2p}$$\n",
    "\n",
    "$(\\hat I_2(x))_j = $ $x_j$ if non-missing and $\\hat \\mu_j$ if missing for $j =1,\\ldots,p$\n",
    "\n",
    "$(\\hat I_2(x))_{p+j} = $ $0$ if non-missing and $1$ if missing for $j =1,\\ldots,p$\n",
    "\n",
    "The trained predictor could be linear,\n",
    "ex. $\\hat f(\\hat I(x)) = \\hat I(x)^\\top \\hat \\beta$\n",
    "\n",
    "Then we can combine these steps into one predictor,\n",
    "$\\hat g(x) = \\hat f (\\hat I (x))$.\n",
    "\n",
    "The test error is still an unbiased risk estimator,\n",
    "$$\\frac{1}{n_t} \\sum_{i=n_0+1}^{n_0+n_t} (y_i - \\hat g(x_i))^2.$$"
   ]
  },
  {
   "cell_type": "code",
   "execution_count": 9,
   "metadata": {},
   "outputs": [
    {
     "name": "stdout",
     "output_type": "stream",
     "text": [
      "(398, 8)\n",
      "Y     0\n",
      "X1    0\n",
      "X2    0\n",
      "X3    6\n",
      "X4    0\n",
      "X5    0\n",
      "X6    0\n",
      "X7    0\n",
      "dtype: int64\n",
      "Y     0\n",
      "X1    0\n",
      "X2    0\n",
      "X3    0\n",
      "X4    0\n",
      "X5    0\n",
      "X6    0\n",
      "X7    0\n",
      "dtype: int64\n"
     ]
    }
   ],
   "source": [
    "# I think the simplest method will be to drop any rows that have an na value in them\n",
    "print(data_mat.shape)\n",
    "print(data_mat.isna().sum())\n",
    "data_mat = data_mat.dropna(axis=0)\n",
    "\n",
    "# no more na values in our dataset\n",
    "print(data_mat.isna().sum())"
   ]
  },
  {
   "cell_type": "code",
   "execution_count": 10,
   "metadata": {},
   "outputs": [],
   "source": [
    "# Split data_mat into x and y variables\n",
    "y = data_mat[\"Y\"]\n",
    "X = data_mat.drop(columns=[\"Y\"])"
   ]
  },
  {
   "cell_type": "markdown",
   "metadata": {},
   "source": [
    "## KNN Parameter Tuning"
   ]
  },
  {
   "cell_type": "code",
   "execution_count": 11,
   "metadata": {},
   "outputs": [],
   "source": [
    "# Split x and y into training and test sets\n",
    "X_train, X_test, y_train, y_test = train_test_split(X,y, test_size=0.2)\n",
    "\n",
    "# Scale our data\n",
    "scaler = preprocessing.StandardScaler()\n",
    "X_train = scaler.fit_transform(X_train)\n",
    "X_test = scaler.transform(X_test)"
   ]
  },
  {
   "cell_type": "code",
   "execution_count": 12,
   "metadata": {},
   "outputs": [
    {
     "name": "stdout",
     "output_type": "stream",
     "text": [
      "Training ====================>"
     ]
    },
    {
     "data": {
      "image/png": "[encoded data removed]",
      "text/plain": [
       "<Figure size 720x720 with 1 Axes>"
      ]
     },
     "metadata": {
      "needs_background": "light"
     },
     "output_type": "display_data"
    }
   ],
   "source": [
    "# Training knn again to look for best k on average\n",
    "total_trials = 250\n",
    "k_array = np.arange(1, 50, 1)\n",
    "\n",
    "# Creating a loading bar\n",
    "bar_len = 20\n",
    "print(\"Training >\" + \".\"*bar_len, end=\"\")\n",
    "\n",
    "for trial in range(0, total_trials):\n",
    "    \n",
    "    # Updating our loading bar\n",
    "    ratio = trial/total_trials\n",
    "    num_filled = int(np.floor(bar_len*ratio)+1)\n",
    "    load_bar = \"=\"*num_filled + \">\"\n",
    "    bar_left = \".\"*(bar_len-num_filled)\n",
    "    print(\"\\rTraining \" + load_bar + bar_left, end=\"\")\n",
    "    \n",
    "    # initalize mse array\n",
    "    mse_val = []\n",
    "    \n",
    "    for k in k_array:\n",
    "        knn = neighbors.KNeighborsRegressor(n_neighbors=k)\n",
    "        knn.fit(X_train, y_train)\n",
    "        y_pred = knn.predict(X_test)\n",
    "\n",
    "        # mse\n",
    "        mse_val.append(((y_pred - y_test)**2).mean())\n",
    "        \n",
    "    if trial == 0:\n",
    "        total_mse = np.array(mse_val)\n",
    "    else:\n",
    "        total_mse = total_mse + np.array(mse_val)\n",
    "        \n",
    "# Find avg mse vs k for all trials \n",
    "avg_mse = total_mse/trial\n",
    "\n",
    "plt.figure(figsize=(10,10))\n",
    "plt.plot(k_array, avg_mse)\n",
    "plt.xlabel(\"k\")\n",
    "plt.ylabel(\"Mean Square Error\")\n",
    "plt.title(\"MSE vs k for KNN (Avg over 250 trials)\")\n",
    "plt.show()"
   ]
  },
  {
   "cell_type": "code",
   "execution_count": 13,
   "metadata": {},
   "outputs": [
    {
     "name": "stdout",
     "output_type": "stream",
     "text": [
      "Optimal value for k is:  6\n"
     ]
    }
   ],
   "source": [
    "# Find best value for k\n",
    "best_k = k_array[np.argwhere(avg_mse == np.min(avg_mse))[0,0]]\n",
    "print(\"Optimal value for k is: \", best_k)"
   ]
  },
  {
   "cell_type": "markdown",
   "metadata": {},
   "source": [
    "## Optimal K value is 6"
   ]
  },
  {
   "cell_type": "markdown",
   "metadata": {},
   "source": [
    "## Tuning Ridge Regression Parameters"
   ]
  },
  {
   "cell_type": "code",
   "execution_count": 14,
   "metadata": {},
   "outputs": [
    {
     "name": "stdout",
     "output_type": "stream",
     "text": [
      "Training ====================>"
     ]
    },
    {
     "data": {
      "image/png": "[encoded data removed]",
      "text/plain": [
       "<Figure size 720x720 with 1 Axes>"
      ]
     },
     "metadata": {
      "needs_background": "light"
     },
     "output_type": "display_data"
    }
   ],
   "source": [
    "# Keep track of our mse for different values of k\n",
    "alpha_array = np.arange(0, 100, 0.25)\n",
    "total_mse = np.zeros_like(alpha_array)\n",
    "total_trials = 100\n",
    "\n",
    "# Creating a loading bar\n",
    "bar_len = 20\n",
    "print(\"Training >\" + \".\"*bar_len, end=\"\")\n",
    "\n",
    "for trial in range(0, total_trials):\n",
    "    \n",
    "    # Updating our loading bar\n",
    "    ratio = trial/total_trials\n",
    "    num_filled = int(np.floor(bar_len*ratio)+1)\n",
    "    load_bar = \"=\"*num_filled + \">\"\n",
    "    bar_left = \".\"*(bar_len-num_filled)\n",
    "    print(\"\\rTraining \" + load_bar + bar_left, end=\"\")\n",
    "    \n",
    "    mse_val = []\n",
    "    \n",
    "    for alpha in alpha_array:\n",
    "        ridge = linear_model.Ridge(alpha=alpha)\n",
    "        ridge.fit(X_train, y_train)\n",
    "\n",
    "        yhat = ridge.predict(X_test)\n",
    "\n",
    "        # Calculate mse\n",
    "        mse_val.append(((yhat - y_test)**2).mean())\n",
    "    \n",
    "    if trial == 0:\n",
    "        total_mse = np.array(mse_val)\n",
    "    else:\n",
    "        total_mse = total_mse + np.array(mse_val)\n",
    "\n",
    "# Average our mse across our total trials\n",
    "avg_mse = total_mse/trial\n",
    "\n",
    "plt.figure(figsize=(10,10))\n",
    "plt.plot(alpha_array, avg_mse)\n",
    "plt.xlabel(\"alpha\")\n",
    "plt.ylabel(\"Mean Square Error\")\n",
    "plt.title(\"MSE vs alpha Ridge Regression (Avg over 100 trials)\")\n",
    "plt.show()"
   ]
  },
  {
   "cell_type": "code",
   "execution_count": 15,
   "metadata": {},
   "outputs": [
    {
     "name": "stdout",
     "output_type": "stream",
     "text": [
      "Best alpha:  1.75\n"
     ]
    }
   ],
   "source": [
    "# Find the best value for alpha\n",
    "best_alpha = alpha_array[np.argwhere(avg_mse == np.min(avg_mse))[0,0]]\n",
    "print(\"Best alpha: \", best_alpha)"
   ]
  },
  {
   "cell_type": "markdown",
   "metadata": {},
   "source": [
    "## Optimal Alpha is 1.75"
   ]
  },
  {
   "cell_type": "markdown",
   "metadata": {},
   "source": [
    "## Tuning Linear Regression Model\n"
   ]
  },
  {
   "cell_type": "code",
   "execution_count": 16,
   "metadata": {},
   "outputs": [
    {
     "name": "stdout",
     "output_type": "stream",
     "text": [
      "MSE for OLS: 11.956\n"
     ]
    }
   ],
   "source": [
    "# As far as I know there aren't any parameters to tune, so I will just initialize the model here\n",
    "ols = linear_model.LinearRegression()\n",
    "ols.fit(X_train, y_train)\n",
    "\n",
    "# Let's find the mse for this model\n",
    "yhat = ols.predict(X_test)\n",
    "mse = ((yhat - y_test)**2).mean()\n",
    "print(\"MSE for OLS: {:.3f}\".format(mse))"
   ]
  },
  {
   "cell_type": "markdown",
   "metadata": {},
   "source": [
    "## Tuning Singular Value Regressor"
   ]
  },
  {
   "cell_type": "code",
   "execution_count": 17,
   "metadata": {},
   "outputs": [
    {
     "name": "stdout",
     "output_type": "stream",
     "text": [
      "X_train:  (313, 7) \t X_test:  (79, 7)\n"
     ]
    },
    {
     "data": {
      "image/png": "[encoded data removed]",
      "text/plain": [
       "<Figure size 720x720 with 1 Axes>"
      ]
     },
     "metadata": {
      "needs_background": "light"
     },
     "output_type": "display_data"
    }
   ],
   "source": [
    "# Singular value regressor\n",
    "p = X_train.shape[1]\n",
    "print(\"X_train: \", X_train.shape, \"\\t X_test: \", X_test.shape)\n",
    "\n",
    "svr = SingularValueRegressor(r=p-2)\n",
    "svr.fit(X_train, y_train)\n",
    "yhat = svr.predict(X_test)\n",
    "\n",
    "mse = ((yhat - y_test)**2).mean()\n",
    "\n",
    "plt.figure(figsize=(10,10))\n",
    "plt.scatter(y_test, yhat)\n",
    "plt.xlabel(\"y_test\")\n",
    "plt.ylabel(\"Predicted y vals\")\n",
    "plt.title(\"Predicted vs Ground truth y_test\")\n",
    "plt.show()"
   ]
  },
  {
   "cell_type": "code",
   "execution_count": 18,
   "metadata": {},
   "outputs": [
    {
     "name": "stdout",
     "output_type": "stream",
     "text": [
      "Training ===================>."
     ]
    }
   ],
   "source": [
    "# total trials\n",
    "total_trials = 10\n",
    "r_range = np.arange(1, X_train.shape[1] + 1, 1)\n",
    "\n",
    "# Creating a loading bar\n",
    "bar_len = 20\n",
    "print(\"Training >\" + \".\"*bar_len, end=\"\")\n",
    "\n",
    "for trial in range(0, total_trials):\n",
    "    \n",
    "    # Updating our loading bar\n",
    "    ratio = trial/total_trials\n",
    "    num_filled = int(np.floor(bar_len*ratio)+1)\n",
    "    load_bar = \"=\"*num_filled + \">\"\n",
    "    bar_left = \".\"*(bar_len-num_filled)\n",
    "    print(\"\\rTraining \" + load_bar + bar_left, end=\"\")\n",
    "    \n",
    "    mse_val = []\n",
    "    for r in r_range:\n",
    "        if r == 1:\n",
    "            svr = SingularValueRegressor(r)\n",
    "            svr.fit(X_train, y_train)\n",
    "            \n",
    "        else:\n",
    "            svr.change_rank(r)\n",
    "            \n",
    "        yhat = svr.predict(X_test)\n",
    "        mse_val.append(((yhat-y_test)**2).mean())\n",
    "\n",
    "    if trial == 0:\n",
    "        mse_total = np.array(mse_val)\n",
    "    else:\n",
    "        mse_total = mse_total + np.array(mse_val)"
   ]
  },
  {
   "cell_type": "code",
   "execution_count": 19,
   "metadata": {},
   "outputs": [
    {
     "data": {
      "image/png": "[encoded data removed]",
      "text/plain": [
       "<Figure size 720x720 with 1 Axes>"
      ]
     },
     "metadata": {
      "needs_background": "light"
     },
     "output_type": "display_data"
    }
   ],
   "source": [
    "# Find avg mse across all trials\n",
    "avg_mse = mse_total/total_trials\n",
    "\n",
    "plt.figure(figsize=(10,10))\n",
    "plt.plot(r_range, avg_mse)\n",
    "plt.xlabel(\"r\")\n",
    "plt.ylabel(\"Mean Square Error\")\n",
    "plt.title(\"MSE vs r for SVR (Avg over 100 trials)\")\n",
    "plt.show()"
   ]
  },
  {
   "cell_type": "code",
   "execution_count": null,
   "metadata": {},
   "outputs": [],
   "source": []
  }
 ],
 "metadata": {
  "kernelspec": {
   "display_name": "Python 3",
   "language": "python",
   "name": "python3"
  },
  "language_info": {
   "codemirror_mode": {
    "name": "ipython",
    "version": 3
   },
   "file_extension": ".py",
   "mimetype": "text/x-python",
   "name": "python",
   "nbconvert_exporter": "python",
   "pygments_lexer": "ipython3",
   "version": "3.8.5"
  }
 },
 "nbformat": 4,
 "nbformat_minor": 2
}
