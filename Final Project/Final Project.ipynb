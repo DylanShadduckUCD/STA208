{
 "cells": [
  {
   "cell_type": "markdown",
   "metadata": {},
   "source": [
    "# Statistics in Machine Learning: STA 208\n",
    "# Final Project\n",
    "## Stroke Prediction/Prevention"
   ]
  },
  {
   "cell_type": "markdown",
   "metadata": {},
   "source": [
    "URL: https://www.kaggle.com/lirilkumaramal/heart-stroke\n"
   ]
  },
  {
   "cell_type": "markdown",
   "metadata": {},
   "source": [
    "### Imports"
   ]
  },
  {
   "cell_type": "code",
   "execution_count": 1,
   "metadata": {},
   "outputs": [],
   "source": [
    "import numpy as np\n",
    "import pandas as pd\n",
    "from sklearn.model_selection import train_test_split\n",
    "from sklearn.preprocessing import StandardScaler"
   ]
  },
  {
   "cell_type": "code",
   "execution_count": 2,
   "metadata": {},
   "outputs": [
    {
     "name": "stdout",
     "output_type": "stream",
     "text": [
      "<class 'pandas.core.frame.DataFrame'>\n",
      "RangeIndex: 43400 entries, 0 to 43399\n",
      "Data columns (total 12 columns):\n",
      " #   Column             Non-Null Count  Dtype  \n",
      "---  ------             --------------  -----  \n",
      " 0   id                 43400 non-null  int64  \n",
      " 1   gender             43400 non-null  object \n",
      " 2   age                43400 non-null  float64\n",
      " 3   hypertension       43400 non-null  int64  \n",
      " 4   heart_disease      43400 non-null  int64  \n",
      " 5   ever_married       43400 non-null  object \n",
      " 6   work_type          43400 non-null  object \n",
      " 7   Residence_type     43400 non-null  object \n",
      " 8   avg_glucose_level  43400 non-null  float64\n",
      " 9   bmi                41938 non-null  float64\n",
      " 10  smoking_status     30108 non-null  object \n",
      " 11  stroke             43400 non-null  int64  \n",
      "dtypes: float64(3), int64(4), object(5)\n",
      "memory usage: 4.0+ MB\n"
     ]
    }
   ],
   "source": [
    "folder_mac = \"/Users/Dylan/Desktop/School Stuff/Master's Year/Spring 2021/STA 208/Final Project/\"\n",
    "filename = \"train_strokes.csv\"\n",
    "df = pd.read_csv(folder_mac+filename, na_values=\"N/A\")\n",
    "df.info()"
   ]
  },
  {
   "cell_type": "markdown",
   "metadata": {},
   "source": [
    "## Data Preparation"
   ]
  },
  {
   "cell_type": "markdown",
   "metadata": {},
   "source": [
    "### Dealing with Null values"
   ]
  },
  {
   "cell_type": "code",
   "execution_count": 3,
   "metadata": {},
   "outputs": [
    {
     "data": {
      "text/plain": [
       "id                       0\n",
       "gender                   0\n",
       "age                      0\n",
       "hypertension             0\n",
       "heart_disease            0\n",
       "ever_married             0\n",
       "work_type                0\n",
       "Residence_type           0\n",
       "avg_glucose_level        0\n",
       "bmi                   1462\n",
       "smoking_status       13292\n",
       "stroke                   0\n",
       "dtype: int64"
      ]
     },
     "execution_count": 3,
     "metadata": {},
     "output_type": "execute_result"
    }
   ],
   "source": [
    "df.isna().sum()"
   ]
  },
  {
   "cell_type": "code",
   "execution_count": 4,
   "metadata": {},
   "outputs": [
    {
     "name": "stdout",
     "output_type": "stream",
     "text": [
      "The median male bmi is:  29.5\n",
      "The average male bmi is:  30.251165\n",
      "The median female bmi is:  28.5\n",
      "The average female bmi is:  29.931274\n"
     ]
    }
   ],
   "source": [
    "# Only the bmi variable has NA values. I think the best course of action is to replace\n",
    "# BMI nas with the median value of the patient's gender\n",
    "# Ex. If patitent is female, replace their BMI with the median value for females\n",
    "# We also want to drop the na values so that we can come up with a median value\n",
    "male_df = df.loc[df['gender'] == \"Male\"].dropna()\n",
    "male_bmis = male_df[\"bmi\"].to_numpy(dtype=\"float32\")\n",
    "male_bmi_median = np.median(male_bmis)\n",
    "male_bmi_avg = male_bmis.mean()\n",
    "print(\"The median male bmi is: \", male_bmi_median)\n",
    "print(\"The average male bmi is: \", male_bmi_avg)\n",
    "\n",
    "# Performing the same work on the female_bmis\n",
    "female_df = df.loc[df['gender'] == \"Female\"].dropna()\n",
    "female_bmis = female_df[\"bmi\"].to_numpy(dtype=\"float32\")\n",
    "female_bmi_median = np.median(female_bmis)\n",
    "female_bmi_avg = female_bmis.mean()\n",
    "print(\"The median female bmi is: \", female_bmi_median)\n",
    "print(\"The average female bmi is: \", female_bmi_avg)"
   ]
  },
  {
   "cell_type": "markdown",
   "metadata": {},
   "source": [
    "The average and median bmis for males and females are very similar. I will replace the male bmi na values with the median value since the median does a better job of accounting for outliers."
   ]
  },
  {
   "cell_type": "code",
   "execution_count": 5,
   "metadata": {},
   "outputs": [],
   "source": [
    "# Finding Patient ids for male and females that don't have a bmi set\n",
    "na_bmis = df[df.isnull().any(1)]\n",
    "na_female_patients = na_bmis.loc[na_bmis[\"gender\"] == \"Female\"][\"id\"].to_numpy(dtype=\"int64\")\n",
    "na_male_patients = na_bmis.loc[na_bmis[\"gender\"] == \"Male\"][\"id\"].to_numpy(dtype=\"int64\")\n",
    "na_other_patients = na_bmis.loc[na_bmis[\"gender\"] == \"Other\"][\"id\"].to_numpy(dtype=\"int64\")\n",
    "\n",
    "# Replacing BMI NA values with median\n",
    "df.loc[df[\"id\"].isin(na_male_patients), \"bmi\"] = male_bmi_median\n",
    "df.loc[df[\"id\"].isin(na_female_patients), \"bmi\"] = female_bmi_median\n",
    "df.loc[df[\"id\"].isin(na_other_patients), \"bmi\"] = (female_bmi_median + male_bmi_median)/2"
   ]
  },
  {
   "cell_type": "code",
   "execution_count": 6,
   "metadata": {},
   "outputs": [
    {
     "data": {
      "text/plain": [
       "never smoked       16053\n",
       "formerly smoked     7493\n",
       "smokes              6562\n",
       "Name: smoking_status, dtype: int64"
      ]
     },
     "execution_count": 6,
     "metadata": {},
     "output_type": "execute_result"
    }
   ],
   "source": [
    "df[\"smoking_status\"].value_counts()"
   ]
  },
  {
   "cell_type": "code",
   "execution_count": 7,
   "metadata": {},
   "outputs": [
    {
     "data": {
      "text/plain": [
       "id                   0\n",
       "gender               0\n",
       "age                  0\n",
       "hypertension         0\n",
       "heart_disease        0\n",
       "ever_married         0\n",
       "work_type            0\n",
       "Residence_type       0\n",
       "avg_glucose_level    0\n",
       "bmi                  0\n",
       "smoking_status       0\n",
       "stroke               0\n",
       "dtype: int64"
      ]
     },
     "execution_count": 7,
     "metadata": {},
     "output_type": "execute_result"
    }
   ],
   "source": [
    "# Replace all NA smoking values\n",
    "na_smoking_ids = df[df.isnull().any(1)][\"id\"].to_numpy(dtype=\"float32\")\n",
    "df.loc[df[\"id\"].isin(na_smoking_ids), \"smoking_status\"] = \"Unknown\"\n",
    "\n",
    "# Check if we still have any na values\n",
    "df.isna().sum()"
   ]
  },
  {
   "cell_type": "markdown",
   "metadata": {},
   "source": [
    "### Dealing with String Data"
   ]
  },
  {
   "cell_type": "code",
   "execution_count": 8,
   "metadata": {},
   "outputs": [
    {
     "data": {
      "text/plain": [
       "Private          24834\n",
       "Self-employed     6793\n",
       "children          6156\n",
       "Govt_job          5440\n",
       "Never_worked       177\n",
       "Name: work_type, dtype: int64"
      ]
     },
     "execution_count": 8,
     "metadata": {},
     "output_type": "execute_result"
    }
   ],
   "source": [
    "df[\"work_type\"].value_counts()"
   ]
  },
  {
   "cell_type": "code",
   "execution_count": 9,
   "metadata": {},
   "outputs": [
    {
     "data": {
      "text/plain": [
       "Urban    21756\n",
       "Rural    21644\n",
       "Name: Residence_type, dtype: int64"
      ]
     },
     "execution_count": 9,
     "metadata": {},
     "output_type": "execute_result"
    }
   ],
   "source": [
    "df[\"Residence_type\"].value_counts()"
   ]
  },
  {
   "cell_type": "code",
   "execution_count": 10,
   "metadata": {},
   "outputs": [
    {
     "data": {
      "text/plain": [
       "0    42617\n",
       "1      783\n",
       "Name: stroke, dtype: int64"
      ]
     },
     "execution_count": 10,
     "metadata": {},
     "output_type": "execute_result"
    }
   ],
   "source": [
    "df[\"stroke\"].value_counts()"
   ]
  },
  {
   "cell_type": "code",
   "execution_count": 11,
   "metadata": {},
   "outputs": [
    {
     "data": {
      "text/plain": [
       "Yes    27938\n",
       "No     15462\n",
       "Name: ever_married, dtype: int64"
      ]
     },
     "execution_count": 11,
     "metadata": {},
     "output_type": "execute_result"
    }
   ],
   "source": [
    "df[\"ever_married\"].value_counts()"
   ]
  },
  {
   "cell_type": "code",
   "execution_count": 12,
   "metadata": {},
   "outputs": [
    {
     "data": {
      "text/plain": [
       "Female    25665\n",
       "Male      17724\n",
       "Other        11\n",
       "Name: gender, dtype: int64"
      ]
     },
     "execution_count": 12,
     "metadata": {},
     "output_type": "execute_result"
    }
   ],
   "source": [
    "df[\"gender\"].value_counts()"
   ]
  },
  {
   "cell_type": "code",
   "execution_count": 13,
   "metadata": {},
   "outputs": [],
   "source": [
    "dummies = pd.get_dummies(df[[\"work_type\", \"smoking_status\"]])\n",
    "\n",
    "# Drop the columns that we made dummy variables for\n",
    "temp_df = df.drop([\"work_type\", \"smoking_status\", \"id\"], axis=1)\n",
    "df = pd.concat([temp_df, dummies], axis=1)"
   ]
  },
  {
   "cell_type": "code",
   "execution_count": 14,
   "metadata": {},
   "outputs": [
    {
     "data": {
      "text/html": [
       "<div>\n",
       "<style scoped>\n",
       "    .dataframe tbody tr th:only-of-type {\n",
       "        vertical-align: middle;\n",
       "    }\n",
       "\n",
       "    .dataframe tbody tr th {\n",
       "        vertical-align: top;\n",
       "    }\n",
       "\n",
       "    .dataframe thead th {\n",
       "        text-align: right;\n",
       "    }\n",
       "</style>\n",
       "<table border=\"1\" class=\"dataframe\">\n",
       "  <thead>\n",
       "    <tr style=\"text-align: right;\">\n",
       "      <th></th>\n",
       "      <th>gender</th>\n",
       "      <th>age</th>\n",
       "      <th>hypertension</th>\n",
       "      <th>heart_disease</th>\n",
       "      <th>ever_married</th>\n",
       "      <th>Residence_type</th>\n",
       "      <th>avg_glucose_level</th>\n",
       "      <th>bmi</th>\n",
       "      <th>stroke</th>\n",
       "      <th>work_type_Govt_job</th>\n",
       "      <th>work_type_Never_worked</th>\n",
       "      <th>work_type_Private</th>\n",
       "      <th>work_type_Self-employed</th>\n",
       "      <th>work_type_children</th>\n",
       "      <th>smoking_status_Unknown</th>\n",
       "      <th>smoking_status_formerly smoked</th>\n",
       "      <th>smoking_status_never smoked</th>\n",
       "      <th>smoking_status_smokes</th>\n",
       "    </tr>\n",
       "  </thead>\n",
       "  <tbody>\n",
       "    <tr>\n",
       "      <th>0</th>\n",
       "      <td>1</td>\n",
       "      <td>3.0</td>\n",
       "      <td>0</td>\n",
       "      <td>0</td>\n",
       "      <td>0</td>\n",
       "      <td>0</td>\n",
       "      <td>95.12</td>\n",
       "      <td>29.5</td>\n",
       "      <td>0</td>\n",
       "      <td>0</td>\n",
       "      <td>0</td>\n",
       "      <td>0</td>\n",
       "      <td>0</td>\n",
       "      <td>1</td>\n",
       "      <td>1</td>\n",
       "      <td>0</td>\n",
       "      <td>0</td>\n",
       "      <td>0</td>\n",
       "    </tr>\n",
       "    <tr>\n",
       "      <th>1</th>\n",
       "      <td>1</td>\n",
       "      <td>58.0</td>\n",
       "      <td>1</td>\n",
       "      <td>0</td>\n",
       "      <td>1</td>\n",
       "      <td>1</td>\n",
       "      <td>87.96</td>\n",
       "      <td>39.2</td>\n",
       "      <td>0</td>\n",
       "      <td>0</td>\n",
       "      <td>0</td>\n",
       "      <td>1</td>\n",
       "      <td>0</td>\n",
       "      <td>0</td>\n",
       "      <td>0</td>\n",
       "      <td>0</td>\n",
       "      <td>1</td>\n",
       "      <td>0</td>\n",
       "    </tr>\n",
       "    <tr>\n",
       "      <th>2</th>\n",
       "      <td>0</td>\n",
       "      <td>8.0</td>\n",
       "      <td>0</td>\n",
       "      <td>0</td>\n",
       "      <td>0</td>\n",
       "      <td>1</td>\n",
       "      <td>110.89</td>\n",
       "      <td>28.5</td>\n",
       "      <td>0</td>\n",
       "      <td>0</td>\n",
       "      <td>0</td>\n",
       "      <td>1</td>\n",
       "      <td>0</td>\n",
       "      <td>0</td>\n",
       "      <td>1</td>\n",
       "      <td>0</td>\n",
       "      <td>0</td>\n",
       "      <td>0</td>\n",
       "    </tr>\n",
       "    <tr>\n",
       "      <th>3</th>\n",
       "      <td>0</td>\n",
       "      <td>70.0</td>\n",
       "      <td>0</td>\n",
       "      <td>0</td>\n",
       "      <td>1</td>\n",
       "      <td>0</td>\n",
       "      <td>69.04</td>\n",
       "      <td>35.9</td>\n",
       "      <td>0</td>\n",
       "      <td>0</td>\n",
       "      <td>0</td>\n",
       "      <td>1</td>\n",
       "      <td>0</td>\n",
       "      <td>0</td>\n",
       "      <td>0</td>\n",
       "      <td>1</td>\n",
       "      <td>0</td>\n",
       "      <td>0</td>\n",
       "    </tr>\n",
       "    <tr>\n",
       "      <th>4</th>\n",
       "      <td>1</td>\n",
       "      <td>14.0</td>\n",
       "      <td>0</td>\n",
       "      <td>0</td>\n",
       "      <td>0</td>\n",
       "      <td>0</td>\n",
       "      <td>161.28</td>\n",
       "      <td>29.5</td>\n",
       "      <td>0</td>\n",
       "      <td>0</td>\n",
       "      <td>1</td>\n",
       "      <td>0</td>\n",
       "      <td>0</td>\n",
       "      <td>0</td>\n",
       "      <td>1</td>\n",
       "      <td>0</td>\n",
       "      <td>0</td>\n",
       "      <td>0</td>\n",
       "    </tr>\n",
       "    <tr>\n",
       "      <th>5</th>\n",
       "      <td>0</td>\n",
       "      <td>47.0</td>\n",
       "      <td>0</td>\n",
       "      <td>0</td>\n",
       "      <td>1</td>\n",
       "      <td>1</td>\n",
       "      <td>210.95</td>\n",
       "      <td>28.5</td>\n",
       "      <td>0</td>\n",
       "      <td>0</td>\n",
       "      <td>0</td>\n",
       "      <td>1</td>\n",
       "      <td>0</td>\n",
       "      <td>0</td>\n",
       "      <td>1</td>\n",
       "      <td>0</td>\n",
       "      <td>0</td>\n",
       "      <td>0</td>\n",
       "    </tr>\n",
       "    <tr>\n",
       "      <th>6</th>\n",
       "      <td>0</td>\n",
       "      <td>52.0</td>\n",
       "      <td>0</td>\n",
       "      <td>0</td>\n",
       "      <td>1</td>\n",
       "      <td>1</td>\n",
       "      <td>77.59</td>\n",
       "      <td>17.7</td>\n",
       "      <td>0</td>\n",
       "      <td>0</td>\n",
       "      <td>0</td>\n",
       "      <td>1</td>\n",
       "      <td>0</td>\n",
       "      <td>0</td>\n",
       "      <td>0</td>\n",
       "      <td>1</td>\n",
       "      <td>0</td>\n",
       "      <td>0</td>\n",
       "    </tr>\n",
       "    <tr>\n",
       "      <th>7</th>\n",
       "      <td>0</td>\n",
       "      <td>75.0</td>\n",
       "      <td>0</td>\n",
       "      <td>1</td>\n",
       "      <td>1</td>\n",
       "      <td>0</td>\n",
       "      <td>243.53</td>\n",
       "      <td>27.0</td>\n",
       "      <td>0</td>\n",
       "      <td>0</td>\n",
       "      <td>0</td>\n",
       "      <td>0</td>\n",
       "      <td>1</td>\n",
       "      <td>0</td>\n",
       "      <td>0</td>\n",
       "      <td>0</td>\n",
       "      <td>1</td>\n",
       "      <td>0</td>\n",
       "    </tr>\n",
       "    <tr>\n",
       "      <th>8</th>\n",
       "      <td>0</td>\n",
       "      <td>32.0</td>\n",
       "      <td>0</td>\n",
       "      <td>0</td>\n",
       "      <td>1</td>\n",
       "      <td>0</td>\n",
       "      <td>77.67</td>\n",
       "      <td>32.3</td>\n",
       "      <td>0</td>\n",
       "      <td>0</td>\n",
       "      <td>0</td>\n",
       "      <td>1</td>\n",
       "      <td>0</td>\n",
       "      <td>0</td>\n",
       "      <td>0</td>\n",
       "      <td>0</td>\n",
       "      <td>0</td>\n",
       "      <td>1</td>\n",
       "    </tr>\n",
       "    <tr>\n",
       "      <th>9</th>\n",
       "      <td>0</td>\n",
       "      <td>74.0</td>\n",
       "      <td>1</td>\n",
       "      <td>0</td>\n",
       "      <td>1</td>\n",
       "      <td>1</td>\n",
       "      <td>205.84</td>\n",
       "      <td>54.6</td>\n",
       "      <td>0</td>\n",
       "      <td>0</td>\n",
       "      <td>0</td>\n",
       "      <td>0</td>\n",
       "      <td>1</td>\n",
       "      <td>0</td>\n",
       "      <td>0</td>\n",
       "      <td>0</td>\n",
       "      <td>1</td>\n",
       "      <td>0</td>\n",
       "    </tr>\n",
       "  </tbody>\n",
       "</table>\n",
       "</div>"
      ],
      "text/plain": [
       "   gender   age  hypertension  heart_disease  ever_married  Residence_type  \\\n",
       "0       1   3.0             0              0             0               0   \n",
       "1       1  58.0             1              0             1               1   \n",
       "2       0   8.0             0              0             0               1   \n",
       "3       0  70.0             0              0             1               0   \n",
       "4       1  14.0             0              0             0               0   \n",
       "5       0  47.0             0              0             1               1   \n",
       "6       0  52.0             0              0             1               1   \n",
       "7       0  75.0             0              1             1               0   \n",
       "8       0  32.0             0              0             1               0   \n",
       "9       0  74.0             1              0             1               1   \n",
       "\n",
       "   avg_glucose_level   bmi  stroke  work_type_Govt_job  \\\n",
       "0              95.12  29.5       0                   0   \n",
       "1              87.96  39.2       0                   0   \n",
       "2             110.89  28.5       0                   0   \n",
       "3              69.04  35.9       0                   0   \n",
       "4             161.28  29.5       0                   0   \n",
       "5             210.95  28.5       0                   0   \n",
       "6              77.59  17.7       0                   0   \n",
       "7             243.53  27.0       0                   0   \n",
       "8              77.67  32.3       0                   0   \n",
       "9             205.84  54.6       0                   0   \n",
       "\n",
       "   work_type_Never_worked  work_type_Private  work_type_Self-employed  \\\n",
       "0                       0                  0                        0   \n",
       "1                       0                  1                        0   \n",
       "2                       0                  1                        0   \n",
       "3                       0                  1                        0   \n",
       "4                       1                  0                        0   \n",
       "5                       0                  1                        0   \n",
       "6                       0                  1                        0   \n",
       "7                       0                  0                        1   \n",
       "8                       0                  1                        0   \n",
       "9                       0                  0                        1   \n",
       "\n",
       "   work_type_children  smoking_status_Unknown  smoking_status_formerly smoked  \\\n",
       "0                   1                       1                               0   \n",
       "1                   0                       0                               0   \n",
       "2                   0                       1                               0   \n",
       "3                   0                       0                               1   \n",
       "4                   0                       1                               0   \n",
       "5                   0                       1                               0   \n",
       "6                   0                       0                               1   \n",
       "7                   0                       0                               0   \n",
       "8                   0                       0                               0   \n",
       "9                   0                       0                               0   \n",
       "\n",
       "   smoking_status_never smoked  smoking_status_smokes  \n",
       "0                            0                      0  \n",
       "1                            1                      0  \n",
       "2                            0                      0  \n",
       "3                            0                      0  \n",
       "4                            0                      0  \n",
       "5                            0                      0  \n",
       "6                            0                      0  \n",
       "7                            1                      0  \n",
       "8                            0                      1  \n",
       "9                            1                      0  "
      ]
     },
     "execution_count": 14,
     "metadata": {},
     "output_type": "execute_result"
    }
   ],
   "source": [
    "# Replace the other binary string types with 0 or 1\n",
    "# Gender\n",
    "male = 1\n",
    "female = 0\n",
    "\n",
    "# For ever_married\n",
    "yes = 1\n",
    "no = 0\n",
    "\n",
    "# for residence type\n",
    "Urban = 1\n",
    "Rural = 0\n",
    "\n",
    "# Create a dictionary with all these encoded values\n",
    "replace_dict = {\"Male\":1, \"Female\":0, \"Other\":2, \"Yes\":1, \"No\":0, \"Urban\":1, \"Rural\":0}\n",
    "final_df = df.replace(replace_dict)\n",
    "final_df.head(10)"
   ]
  },
  {
   "cell_type": "markdown",
   "metadata": {},
   "source": [
    "## Data Split and Scaling"
   ]
  },
  {
   "cell_type": "code",
   "execution_count": 24,
   "metadata": {},
   "outputs": [],
   "source": [
    "# Convert our pandas dataframe into x and y data\n",
    "y = final_df[\"stroke\"]\n",
    "X = final_df.drop([\"stroke\"], axis=1)\n",
    "\n",
    "# Split our data into train and test datasets\n",
    "X_train, X_test, y_train, y_test = train_test_split(X, y, test_size=0.2, random_state=0)\n",
    "\n",
    "# Scale our data\n",
    "scaler = StandardScaler()\n",
    "X_train = scaler.fit_transform(X_train)\n",
    "X_test = scaler.transform(X_test)"
   ]
  },
  {
   "cell_type": "markdown",
   "metadata": {},
   "source": [
    "## Lasso Fit With KFold"
   ]
  },
  {
   "cell_type": "code",
   "execution_count": 36,
   "metadata": {},
   "outputs": [
    {
     "data": {
      "text/plain": [
       "{'alphas': None,\n",
       " 'copy_X': True,\n",
       " 'cv': 5,\n",
       " 'eps': 0.001,\n",
       " 'fit_intercept': True,\n",
       " 'max_iter': 2000,\n",
       " 'n_alphas': 100,\n",
       " 'n_jobs': None,\n",
       " 'normalize': False,\n",
       " 'positive': False,\n",
       " 'precompute': 'auto',\n",
       " 'random_state': 2,\n",
       " 'selection': 'cyclic',\n",
       " 'tol': 0.0001,\n",
       " 'verbose': False}"
      ]
     },
     "execution_count": 36,
     "metadata": {},
     "output_type": "execute_result"
    }
   ],
   "source": [
    "from sklearn.model_selection import KFold, LeaveOneOut\n",
    "from sklearn.linear_model import LassoCV\n",
    "kf = KFold(n_splits=5)\n",
    "kf_train = kf.get_n_splits(X_train)\n",
    "lasso = LassoCV(cv=kf_train, max_iter=2000, random_state=2)\n",
    "lasso.fit(X_train, y_train)\n",
    "lasso.get_params()"
   ]
  },
  {
   "cell_type": "code",
   "execution_count": 37,
   "metadata": {},
   "outputs": [
    {
     "name": "stdout",
     "output_type": "stream",
     "text": [
      "Lasso lambda is : 4.04E-04\n",
      "Lasso coefficients: \n",
      " [ 0.00000000e+00  2.53913795e-02  3.09574320e-03  8.68538257e-03\n",
      " -5.37051955e-03  6.63503931e-05  5.00848371e-03 -2.47438760e-03\n",
      " -1.04874680e-03  7.70747561e-05 -0.00000000e+00  0.00000000e+00\n",
      "  6.72497605e-03 -0.00000000e+00  0.00000000e+00 -2.28277216e-04\n",
      "  0.00000000e+00]\n"
     ]
    }
   ],
   "source": [
    "print(f\"Lasso lambda is : {lasso.alpha_:.2E}\")\n",
    "print(\"Lasso coefficients: \\n\", lasso.coef_)"
   ]
  },
  {
   "cell_type": "code",
   "execution_count": 38,
   "metadata": {},
   "outputs": [
    {
     "name": "stdout",
     "output_type": "stream",
     "text": [
      "Columns not in active set: ['gender' 'work_type_Private' 'work_type_Self-employed'\n",
      " 'smoking_status_Unknown' 'smoking_status_formerly smoked'\n",
      " 'smoking_status_smokes']\n"
     ]
    }
   ],
   "source": [
    "# Print out unused columns\n",
    "print(\"Columns not in active set:\", np.array(list(X.columns))[lasso.coef_ == 0])"
   ]
  },
  {
   "cell_type": "markdown",
   "metadata": {},
   "source": [
    "### Change the number of KFold splits\n",
    "This dataset is too large to apply leave one out cross validation in a reasonable amount of time"
   ]
  },
  {
   "cell_type": "code",
   "execution_count": 39,
   "metadata": {},
   "outputs": [
    {
     "data": {
      "text/plain": [
       "LassoCV(cv=100, max_iter=2000, random_state=2)"
      ]
     },
     "execution_count": 39,
     "metadata": {},
     "output_type": "execute_result"
    }
   ],
   "source": [
    "kf_100 = KFold(n_splits=100)\n",
    "kf_train_100 = kf_100.get_n_splits(X_train)\n",
    "lasso_kf = LassoCV(cv=kf_train_100, max_iter=2000, random_state=2)\n",
    "lasso_kf.fit(X_train, y_train)"
   ]
  },
  {
   "cell_type": "code",
   "execution_count": 40,
   "metadata": {},
   "outputs": [
    {
     "name": "stdout",
     "output_type": "stream",
     "text": [
      "KFold 100 Lasso lambda is : 3.76E-04\n",
      "KFold 100 Lasso coefficients: \n",
      " [ 0.00000000e+00  2.54993484e-02  3.11373133e-03  8.69494989e-03\n",
      " -5.43909532e-03  9.37039258e-05  5.02821093e-03 -2.50257233e-03\n",
      " -1.06889524e-03  1.07547194e-04 -0.00000000e+00  0.00000000e+00\n",
      "  6.78001993e-03 -0.00000000e+00  0.00000000e+00 -2.47630422e-04\n",
      "  0.00000000e+00]\n"
     ]
    }
   ],
   "source": [
    "print(f\"KFold 100 Lasso lambda is : {lasso_kf.alpha_:.2E}\")\n",
    "print(\"KFold 100 Lasso coefficients: \\n\", lasso_kf.coef_)"
   ]
  },
  {
   "cell_type": "code",
   "execution_count": 41,
   "metadata": {},
   "outputs": [
    {
     "name": "stdout",
     "output_type": "stream",
     "text": [
      "Columns not in active set: ['gender' 'work_type_Private' 'work_type_Self-employed'\n",
      " 'smoking_status_Unknown' 'smoking_status_formerly smoked'\n",
      " 'smoking_status_smokes']\n"
     ]
    }
   ],
   "source": [
    "# Print out unused columns\n",
    "print(\"Columns not in active set:\", np.array(list(X.columns))[lasso_kf.coef_ == 0])"
   ]
  },
  {
   "cell_type": "markdown",
   "metadata": {},
   "source": [
    "## Compare Lasso Resuls with LinearRegression"
   ]
  },
  {
   "cell_type": "code",
   "execution_count": 42,
   "metadata": {},
   "outputs": [
    {
     "name": "stdout",
     "output_type": "stream",
     "text": [
      "Linear Regression MSE: 1.46E-02\n",
      "Lasso KFold 10 MSE: 1.46E-02\n",
      "Lasso KFold 100 MSE: 1.46E-02\n"
     ]
    }
   ],
   "source": [
    "from sklearn.linear_model import LinearRegression\n",
    "# Perform linear regression prediction\n",
    "reg = LinearRegression()\n",
    "reg.fit(X_train, y_train)\n",
    "pred = reg.predict(X_test)\n",
    "\n",
    "# Predict from both lasso\n",
    "pred_lasso_10 = lasso.predict(X_test)\n",
    "pred_lasso_100 = lasso_kf.predict(X_test)\n",
    "\n",
    "# Compare MSE\n",
    "mses = []\n",
    "mses.append(((pred - y_test)**2).mean())\n",
    "mses.append(((pred_lasso_10 - y_test)**2).mean())\n",
    "mses.append(((pred_lasso_100 - y_test)**2).mean())\n",
    "print(f\"Linear Regression MSE: {mses[0]:.2E}\")\n",
    "print(f\"Lasso KFold 10 MSE: {mses[1]:.2E}\")\n",
    "print(f\"Lasso KFold 100 MSE: {mses[1]:.2E}\")"
   ]
  },
  {
   "cell_type": "markdown",
   "metadata": {},
   "source": [
    "### Checking Accuracy of Each Predictor"
   ]
  },
  {
   "cell_type": "code",
   "execution_count": 43,
   "metadata": {},
   "outputs": [
    {
     "name": "stdout",
     "output_type": "stream",
     "text": [
      "Linear Regression accuracy 98.47 %\n",
      "Lasso KFold 10 accuracy 98.47 %\n",
      "Lasso KFold 100 accuracy 98.47 %\n"
     ]
    }
   ],
   "source": [
    "acc = (y_test.size - np.sum(np.abs(np.round(pred) - y_test)))/y_test.size\n",
    "acc_kf_10 = (y_test.size - np.sum(np.abs(np.round(pred_lasso_10) - y_test)))/y_test.size\n",
    "acc_kf_100 = (y_test.size - np.sum(np.abs(np.round(pred_lasso_100) - y_test)))/y_test.size\n",
    "print(f\"Linear Regression accuracy {acc*100:.2f} %\")\n",
    "print(f\"Lasso KFold 10 accuracy {acc_kf_10*100:.2f} %\")\n",
    "print(f\"Lasso KFold 100 accuracy {acc_kf_100*100:.2f} %\")"
   ]
  },
  {
   "cell_type": "markdown",
   "metadata": {},
   "source": [
    "After fitting the lasso on this data set, it seems like residence type and gender don't have much of an effect on stroke prediction. I notice that a lot of the smoking status variables are also being thrown out, but I still see the never smokes variable in the active set. This suggests that there may be little significance between formerly smoking and currently smoking in terms of stroke prediction. These findings are supported by the results of the MSE and Accuracy testing between linear regression and both lasso regressions. The linear regression is training with all of the input variables, but the lasso regression is training without gender, residence type, and several other data categories. The accuracy and mse of the lasso predictions exactly match the linear predictions, suggesting that omitting these data categories has negligible impact on the ability to predict a stroke. "
   ]
  },
  {
   "cell_type": "code",
   "execution_count": 44,
   "metadata": {},
   "outputs": [
    {
     "data": {
      "text/plain": [
       "0.0"
      ]
     },
     "execution_count": 44,
     "metadata": {},
     "output_type": "execute_result"
    }
   ],
   "source": [
    "np.sum(np.round(pred_lasso_10))\n"
   ]
  },
  {
   "cell_type": "code",
   "execution_count": 45,
   "metadata": {},
   "outputs": [
    {
     "data": {
      "text/plain": [
       "133"
      ]
     },
     "execution_count": 45,
     "metadata": {},
     "output_type": "execute_result"
    }
   ],
   "source": [
    "np.sum(y_test)"
   ]
  },
  {
   "cell_type": "code",
   "execution_count": null,
   "metadata": {},
   "outputs": [],
   "source": []
  }
 ],
 "metadata": {
  "kernelspec": {
   "display_name": "Python 3",
   "language": "python",
   "name": "python3"
  },
  "language_info": {
   "codemirror_mode": {
    "name": "ipython",
    "version": 3
   },
   "file_extension": ".py",
   "mimetype": "text/x-python",
   "name": "python",
   "nbconvert_exporter": "python",
   "pygments_lexer": "ipython3",
   "version": "3.8.5"
  }
 },
 "nbformat": 4,
 "nbformat_minor": 4
}
